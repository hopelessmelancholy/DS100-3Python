{
 "cells": [
  {
   "cell_type": "code",
   "execution_count": null,
   "id": "5de992fc-04de-4f3f-9cc2-519e80bcc781",
   "metadata": {},
   "outputs": [],
   "source": [
    "def S(C):\n",
    "    return C + float(273.15)\n",
    "def Y(K):\n",
    "    return K - float(273.15)"
   ]
  },
  {
   "cell_type": "code",
   "execution_count": null,
   "id": "b4936c43-14f5-442e-b194-346cc0507843",
   "metadata": {},
   "outputs": [],
   "source": [
    "while True:\n",
    "    try:\n",
    "        inputT = input(\"Input your Temperature Here!:\")\n",
    "        if \"C\" in inputT.split():\n",
    "            C = float(inputT.replace(\" C\", ''))\n",
    "            print(\"Your Answer:\", S(C), \"C\")\n",
    "        elif \"K\" in inputT.split():\n",
    "            K = float(inputT.replace(\"K\", ''))\n",
    "            print(\"Your Answer:\", Y(K), \"K\")\n",
    "        else:\n",
    "            X = float(inputT)\n",
    "            while True:\n",
    "                try:\n",
    "                    opt = input(\"Type the unit (C or K): \")\n",
    "                    if \"C\" in opt:\n",
    "                        C = X\n",
    "                        print(\"Your Answer:\", S(C), \"C\")\n",
    "                    elif \"K\" in opt:\n",
    "                        K = X\n",
    "                        print(\"Your Answer:\", Y(K), \"K\")\n",
    "                    else:\n",
    "                        print(\"Input is asking for units, try again!\")\n",
    "                    break\n",
    "                except ValueError:\n",
    "                    input(\"There is something wrong with what you typed! Try again, press enter to continue...\")\n",
    "        break\n",
    "    except ValueError:\n",
    "        input(\"There is something wrong with what you typed! Try again, press enter to continue...\")"
   ]
  },
  {
   "cell_type": "code",
   "execution_count": null,
   "id": "6ed3cd25-8804-4e7a-86df-6d79a0f8676f",
   "metadata": {},
   "outputs": [],
   "source": []
  }
 ],
 "metadata": {
  "kernelspec": {
   "display_name": "Python 3 (ipykernel)",
   "language": "python",
   "name": "python3"
  },
  "language_info": {
   "codemirror_mode": {
    "name": "ipython",
    "version": 3
   },
   "file_extension": ".py",
   "mimetype": "text/x-python",
   "name": "python",
   "nbconvert_exporter": "python",
   "pygments_lexer": "ipython3",
   "version": "3.10.8"
  }
 },
 "nbformat": 4,
 "nbformat_minor": 5
}
