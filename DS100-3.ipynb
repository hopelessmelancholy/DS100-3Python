{
 "cells": [
  {
   "cell_type": "code",
   "execution_count": 11,
   "id": "9f9a4a09-e146-4a6a-810b-d14fb7a8e29a",
   "metadata": {},
   "outputs": [],
   "source": [
    "variable2 = ['ID', 'Name', 'Depth', 'Latitude', 'Longitude']"
   ]
  },
  {
   "cell_type": "code",
   "execution_count": 13,
   "id": "e63ca3f6-fc82-4a71-87ee-10e9541724f0",
   "metadata": {},
   "outputs": [
    {
     "name": "stdout",
     "output_type": "stream",
     "text": [
      "ID\n"
     ]
    }
   ],
   "source": [
    "print(variable2[0])"
   ]
  },
  {
   "cell_type": "code",
   "execution_count": 9,
   "id": "8e7c4d37-949b-4752-8441-6f5f0c25be86",
   "metadata": {},
   "outputs": [
    {
     "name": "stdout",
     "output_type": "stream",
     "text": [
      "ID\n",
      "Name\n",
      "Depth\n",
      "Latitude\n",
      "Longitude\n"
     ]
    }
   ],
   "source": [
    "for element in variable2:print(element)"
   ]
  },
  {
   "cell_type": "code",
   "execution_count": 1,
   "id": "652a1b2b-4eda-43c6-8b00-df4364a64a98",
   "metadata": {},
   "outputs": [],
   "source": [
    "i = 1"
   ]
  },
  {
   "cell_type": "code",
   "execution_count": null,
   "id": "fea89f16-4821-4564-ab5d-9ad590763796",
   "metadata": {},
   "outputs": [],
   "source": [
    "while i <= 6:\n",
    "    print(i)\n",
    "    i += 1"
   ]
  },
  {
   "cell_type": "code",
   "execution_count": 21,
   "id": "91c31374-dfbf-4548-94af-7e5ba69eb265",
   "metadata": {},
   "outputs": [],
   "source": [
    "import numpy as np"
   ]
  },
  {
   "cell_type": "code",
   "execution_count": 22,
   "id": "c59b4b9c-1af5-4a69-abd5-e0783222e223",
   "metadata": {},
   "outputs": [
    {
     "data": {
      "text/plain": [
       "array([[  0,   1,   2,   3,   4],\n",
       "       [-99,   6, -99,   8, -99],\n",
       "       [-99,  11, -99,  13, -99]])"
      ]
     },
     "execution_count": 22,
     "metadata": {},
     "output_type": "execute_result"
    }
   ],
   "source": [
    "x = np.arange(15, dtype=np.int64).reshape(3, 5)\n",
    "x[1:, ::2] = -99\n",
    "x"
   ]
  },
  {
   "cell_type": "code",
   "execution_count": 25,
   "id": "73edb89d-f9e3-4199-8de5-07cb83c86c46",
   "metadata": {},
   "outputs": [
    {
     "name": "stdout",
     "output_type": "stream",
     "text": [
      "[ 0  1  2  3  4  5  6  7  8  9 10 11]\n"
     ]
    }
   ],
   "source": [
    "array_1d=np.arange(12)\n",
    "print(array_1d)"
   ]
  },
  {
   "cell_type": "code",
   "execution_count": 29,
   "id": "1ec3786e-6fff-4859-9f88-b4944f288c5c",
   "metadata": {},
   "outputs": [
    {
     "name": "stdout",
     "output_type": "stream",
     "text": [
      "[[ 0]\n",
      " [ 1]\n",
      " [ 2]\n",
      " [ 3]\n",
      " [ 4]\n",
      " [ 5]\n",
      " [ 6]\n",
      " [ 7]\n",
      " [ 8]\n",
      " [ 9]\n",
      " [10]\n",
      " [11]]\n"
     ]
    }
   ],
   "source": [
    "array_2d=np.arange(12).reshape(12,1)\n",
    "print(array_2d)"
   ]
  },
  {
   "cell_type": "code",
   "execution_count": null,
   "id": "1f57cf13-a708-4018-9fb8-2865cdb4661c",
   "metadata": {},
   "outputs": [],
   "source": [
    "import pandas"
   ]
  },
  {
   "cell_type": "code",
   "execution_count": 1,
   "id": "7a610e73-b138-424d-a0d0-1a1b6857de31",
   "metadata": {},
   "outputs": [
    {
     "data": {
      "text/plain": [
       "'/home/virtue/Python'"
      ]
     },
     "execution_count": 1,
     "metadata": {},
     "output_type": "execute_result"
    }
   ],
   "source": [
    "pwd"
   ]
  },
  {
   "cell_type": "code",
   "execution_count": null,
   "id": "8960439e-3604-4e05-9859-63c3aa0e1648",
   "metadata": {},
   "outputs": [],
   "source": []
  }
 ],
 "metadata": {
  "kernelspec": {
   "display_name": "Python 3 (ipykernel)",
   "language": "python",
   "name": "python3"
  },
  "language_info": {
   "codemirror_mode": {
    "name": "ipython",
    "version": 3
   },
   "file_extension": ".py",
   "mimetype": "text/x-python",
   "name": "python",
   "nbconvert_exporter": "python",
   "pygments_lexer": "ipython3",
   "version": "3.10.8"
  }
 },
 "nbformat": 4,
 "nbformat_minor": 5
}
